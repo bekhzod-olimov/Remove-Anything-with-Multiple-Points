{
 "cells": [
  {
   "cell_type": "code",
   "execution_count": 5,
   "metadata": {},
   "outputs": [
    {
     "name": "stdout",
     "output_type": "stream",
     "text": [
      "Done\n"
     ]
    }
   ],
   "source": [
    "from waiting import wait\n",
    "\n",
    "\n",
    "def is_something_ready(something):\n",
    "    if isinstance(something, str):\n",
    "        return True\n",
    "    return False\n",
    "\n",
    "\n",
    "# wait for something to be ready\n",
    "something = \"1\"\n",
    "\n",
    "# wait(lambda: is_something_ready(something), timeout_seconds=120, waiting_for=\"something to be ready\")\n",
    "\n",
    "\n",
    "# this code will only execute after \"something\" is ready\n",
    "print(\"Done\")"
   ]
  },
  {
   "cell_type": "code",
   "execution_count": null,
   "metadata": {},
   "outputs": [],
   "source": []
  }
 ],
 "metadata": {
  "kernelspec": {
   "display_name": "inpaint",
   "language": "python",
   "name": "inpaint"
  },
  "language_info": {
   "codemirror_mode": {
    "name": "ipython",
    "version": 3
   },
   "file_extension": ".py",
   "mimetype": "text/x-python",
   "name": "python",
   "nbconvert_exporter": "python",
   "pygments_lexer": "ipython3",
   "version": "3.12.3"
  }
 },
 "nbformat": 4,
 "nbformat_minor": 2
}
